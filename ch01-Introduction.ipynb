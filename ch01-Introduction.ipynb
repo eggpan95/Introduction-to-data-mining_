{
 "cells": [
  {
   "cell_type": "markdown",
   "metadata": {},
   "source": [
    "# 1. Intronduction"
   ]
  },
  {
   "cell_type": "markdown",
   "metadata": {},
   "source": [
    "    Data가 수집,저장되는 것이 가속화 되어 기업이 vast amount의 데이터를 갖게 되었다. 하지만 쓸모있는 정보를 끓어내는 것은 어려운 일이며, 전통적인 데이터 분석 기법은 대용량을 데이터를 처리하기에 적합하지 않다. 데이터의 속성도 과거와 달라졌으며 현재까지의 기법으로 해답을 이끌어낼 수 없는 상황도 존재한다.\n",
    "    \n",
    "    Data mining은 전통적인 data analysis 기법(method)과 고도의(sophisticated) 알고리즘을 조합하여 대용량 데이터를 처리하는 기술이다.\n",
    "    \n",
    "    또한 새로운 유형의 데이터를 탐색하고 분석하고 새로운 방식으로 이전 유형의 데이터를 분석 할 수있는 기회를 열었습니다.\n",
    "    \n",
    "    데이터 분석을 위해 새로운 기술이 필요한 대표적인 응용분야를 살펴보자.\n",
    "    \n",
    "**Business**\n",
    "   - Point-of-sale data\n",
    "   - Web log data (e-commerce)\n",
    "   - Customer service record from call centers\n",
    "   \n",
    "   고객의 needs를 이해하고 business decision에 활용\n",
    "  \n",
    "    가장 수익성 높은 고객은 누구/교차 판매 또는 상향 판매가 가능한 제품/내년도 회사 매출 전망 등의 답을 얻도록 도와준다.(association analysis, Chapters 6 and 7)\n",
    "    \n",
    "**Medicine, Science, and Engineering**\n",
    "- Understaing of Earth's climate system \n",
    "  \"지구 온난화에 대한 가뭄 및 허리케인과 같은 생태계 교란의 빈도와 강도 사이의 관계는 무엇입니까?\", \"육지 표면의 강수량과 온도는 어떻게 해양 표면 온도에 영향을 받는가?\", \"한 지역의 성장기 시작과 끝을 얼마나 잘 예측할 수 있습니까?\"\n",
    "- Molecular biology(분자 생물학)의 유전자 구조와 기능 이해를 위한 게놈(genomic) 데이터 분석 Noisy and high-dimensional 데이터 처리 문제, 단백질 구조 예측, 다중 서열 정렬, 생화학적 경로 모델링, 계통 발생학과 같은 중요한 생물학적 과제 해결에 데이터 mining 기법이 사용됨(important biological challenges such as protein structure prediction, multiple sequence alignment, the modeling of biochemical pathways, and phylogenetics)\n",
    "\n",
    "    "
   ]
  },
  {
   "cell_type": "markdown",
   "metadata": {},
   "source": [
    "## 1.1 What is Data mining?"
   ]
  },
  {
   "cell_type": "markdown",
   "metadata": {},
   "source": [
    "_**Data Mining** is the process of automaticall discovering useful information in large data repositories._\n",
    "\n",
    "**Data mining techniques** are deployed to scour(쓸다, 세척하다, 조사하다) large databaseds in order to find _**novel and useful patterns**_ that might othrerwise remain unknown.\n",
    "\n",
    "미래에 대한 예측도 수행한다.\n",
    "\n",
    "하지만, **Information retieval**과 같은 information discovery task와는 다른 것이다.(전통적인 computer science techniques과 데이터의 obvious feature에 의존하여 index structures를 구성하는 방식)"
   ]
  },
  {
   "cell_type": "markdown",
   "metadata": {},
   "source": [
    "**Data Mining and Knowledge Discovery**\n",
    "\n",
    "- Knowledge Discovery in Database(**KDD**) **> Data mining**"
   ]
  },
  {
   "cell_type": "markdown",
   "metadata": {},
   "source": [
    "##   1.2 Motivating Challenge"
   ]
  },
  {
   "cell_type": "markdown",
   "metadata": {},
   "source": [
    "- **Scalability**"
   ]
  },
  {
   "cell_type": "markdown",
   "metadata": {},
   "source": [
    "    Big Big Big massive Data! Many data mining algorithms employ special search strategies to handle exponential search problems."
   ]
  },
  {
   "cell_type": "markdown",
   "metadata": {},
   "source": [
    "- **High Dimensionality**"
   ]
  },
  {
   "cell_type": "markdown",
   "metadata": {},
   "source": [
    "    Data set with\n",
    "    ' Hundreds or thousands of attributes \n",
    "    ' Temporal or spatial components"
   ]
  },
  {
   "cell_type": "markdown",
   "metadata": {},
   "source": [
    "- **Heterogeneous and Complex Data**"
   ]
  },
  {
   "cell_type": "markdown",
   "metadata": {},
   "source": [
    "       Data set with\n",
    "       ' Heterogeneous attributes - not same type\n",
    "       ' Complex data objects - ex) sequential and 3D structure DNA data\n",
    "   \n",
    "       Mining such complex objects - consideration relationships in the data, such as temporal and spatial autocorrelation, graph connectivity, and parent-child relationships between the elements"
   ]
  },
  {
   "cell_type": "markdown",
   "metadata": {},
   "source": [
    "- **Data Owership and Distribution**"
   ]
  },
  {
   "cell_type": "markdown",
   "metadata": {},
   "source": [
    "    Data is not centered but distributed by muliple locations or organizations\n",
    "    \n",
    "**Issue**\n",
    "    - 계산을 위한 통신량 감소\n",
    "    - 분산 계산 결과의 효율적인 통합 방법\n",
    "    - 보안 문제"
   ]
  },
  {
   "cell_type": "markdown",
   "metadata": {},
   "source": [
    "- **Non-traditional Analysis**"
   ]
  },
  {
   "cell_type": "markdown",
   "metadata": {},
   "source": [
    "- Traditional : 가설-그리고-실험 paradigm\n",
    "- Current : 현재의 데이터 분석 작업은 수천 개의 가설을 생성하고 평가해야하기 때문에 가설 생성 및 평가 프로세스를 자동화하려는 희망이 일부 데이터 마이닝 기술개발의 동기가 되었다. 또한 데이터 마이닝에서 분석된 데이터 세트는 일반적으로 신중하게 설계된 실험의 결과가 아니며 종종 무작위 샘플이 아닌 데이터의 기회 주의적 샘플을 나타낸다.(Current data analysis tasks often require the generation and evaluation of thousands of hypotheses, and consequently, the development of some data mining techniques has been motivated by the desire to automate the process of hypothesis generation and evaluation. Furthermore, the data sets analyzed in data mining are typically not the result of a carefully designed experiment and often represent opportunistic samples of the data, rather than random samples).\n"
   ]
  },
  {
   "cell_type": "markdown",
   "metadata": {},
   "source": [
    "## 1.3 The Origins of Data Mining"
   ]
  },
  {
   "cell_type": "markdown",
   "metadata": {},
   "source": [
    "## 1.4 Data Mining Tasks"
   ]
  },
  {
   "cell_type": "markdown",
   "metadata": {},
   "source": [
    "- **Predictive tasks**\n",
    "  - **Independent(Explanatory) variables** 로부터 **Dependent(Target) variable**을 예측하는 일. "
   ]
  },
  {
   "cell_type": "markdown",
   "metadata": {},
   "source": [
    " - **Descriptive tasks**\n",
    "  - Data에 숨어있는 관계를 보여주는 패턴(correlations, trends, clusters, grajectories, and anomalies)을 끌어내는 일. "
   ]
  },
  {
   "cell_type": "markdown",
   "metadata": {},
   "source": [
    "**Predictive modeling**\n",
    "  : building a model for the target variable as a fucntion of the explanatory variables\n",
    " - Classification\n",
    " - Regression"
   ]
  },
  {
   "cell_type": "markdown",
   "metadata": {},
   "source": [
    "## Predictive Modeling- Classification example( UCI Iris dataset )"
   ]
  },
  {
   "cell_type": "code",
   "execution_count": 1,
   "metadata": {
    "collapsed": true
   },
   "outputs": [],
   "source": [
    "import numpy as np # linear algebra\n",
    "import pandas as pd # data processing, CSV file I/O (e.g. pd.read_csv)"
   ]
  },
  {
   "cell_type": "code",
   "execution_count": 2,
   "metadata": {},
   "outputs": [
    {
     "data": {
      "text/html": [
       "<div>\n",
       "<style>\n",
       "    .dataframe thead tr:only-child th {\n",
       "        text-align: right;\n",
       "    }\n",
       "\n",
       "    .dataframe thead th {\n",
       "        text-align: left;\n",
       "    }\n",
       "\n",
       "    .dataframe tbody tr th {\n",
       "        vertical-align: top;\n",
       "    }\n",
       "</style>\n",
       "<table border=\"1\" class=\"dataframe\">\n",
       "  <thead>\n",
       "    <tr style=\"text-align: right;\">\n",
       "      <th></th>\n",
       "      <th>sepal_length</th>\n",
       "      <th>sepal_width</th>\n",
       "      <th>petal_length</th>\n",
       "      <th>petal_width</th>\n",
       "      <th>species</th>\n",
       "    </tr>\n",
       "  </thead>\n",
       "  <tbody>\n",
       "    <tr>\n",
       "      <th>0</th>\n",
       "      <td>4.9</td>\n",
       "      <td>3.0</td>\n",
       "      <td>1.4</td>\n",
       "      <td>0.2</td>\n",
       "      <td>Iris-setosa</td>\n",
       "    </tr>\n",
       "    <tr>\n",
       "      <th>1</th>\n",
       "      <td>4.7</td>\n",
       "      <td>3.2</td>\n",
       "      <td>1.3</td>\n",
       "      <td>0.2</td>\n",
       "      <td>Iris-setosa</td>\n",
       "    </tr>\n",
       "    <tr>\n",
       "      <th>2</th>\n",
       "      <td>4.6</td>\n",
       "      <td>3.1</td>\n",
       "      <td>1.5</td>\n",
       "      <td>0.2</td>\n",
       "      <td>Iris-setosa</td>\n",
       "    </tr>\n",
       "    <tr>\n",
       "      <th>3</th>\n",
       "      <td>5.0</td>\n",
       "      <td>3.6</td>\n",
       "      <td>1.4</td>\n",
       "      <td>0.2</td>\n",
       "      <td>Iris-setosa</td>\n",
       "    </tr>\n",
       "    <tr>\n",
       "      <th>4</th>\n",
       "      <td>5.4</td>\n",
       "      <td>3.9</td>\n",
       "      <td>1.7</td>\n",
       "      <td>0.4</td>\n",
       "      <td>Iris-setosa</td>\n",
       "    </tr>\n",
       "  </tbody>\n",
       "</table>\n",
       "</div>"
      ],
      "text/plain": [
       "   sepal_length  sepal_width  petal_length  petal_width      species\n",
       "0           4.9          3.0           1.4          0.2  Iris-setosa\n",
       "1           4.7          3.2           1.3          0.2  Iris-setosa\n",
       "2           4.6          3.1           1.5          0.2  Iris-setosa\n",
       "3           5.0          3.6           1.4          0.2  Iris-setosa\n",
       "4           5.4          3.9           1.7          0.4  Iris-setosa"
      ]
     },
     "execution_count": 2,
     "metadata": {},
     "output_type": "execute_result"
    }
   ],
   "source": [
    "import pandas as pd\n",
    "url = 'http://archive.ics.uci.edu/ml/machine-learning-databases/iris/iris.data'\n",
    "col_names = ['sepal_length', 'sepal_width', 'petal_length', 'petal_width', 'species']\n",
    "#iris = pd.read_csv('../input/Iris.csv', header=0, names=col_names)\n",
    "iris = pd.read_csv(url, header=0, names=col_names)\n",
    "iris.head()"
   ]
  },
  {
   "cell_type": "code",
   "execution_count": 3,
   "metadata": {},
   "outputs": [
    {
     "data": {
      "image/png": "[encoded data removed]",
      "text/plain": [
       "<matplotlib.figure.Figure at 0x25731f20198>"
      ]
     },
     "metadata": {},
     "output_type": "display_data"
    }
   ],
   "source": [
    "# allow plots to appear in the notebook\n",
    "import matplotlib.pyplot as plt\n",
    "\n",
    "\n",
    "# create a custom colormap\n",
    "from matplotlib.colors import ListedColormap\n",
    "cmap_bold = ListedColormap(['#FF0000', '#00FF00', '#0000FF'])\n",
    "\n",
    "\n",
    "# map each iris species to a number\n",
    "iris['species_num'] = iris.species.map({'Iris-setosa':0, 'Iris-versicolor':1, 'Iris-virginica':2})\n",
    "iris['species_num'].plot()\n",
    "iris.describe()\n",
    "plt.show()"
   ]
  },
  {
   "cell_type": "code",
   "execution_count": 4,
   "metadata": {},
   "outputs": [
    {
     "data": {
      "image/png": "[encoded data removed]",
      "text/plain": [
       "<matplotlib.figure.Figure at 0x25731ea50b8>"
      ]
     },
     "metadata": {},
     "output_type": "display_data"
    }
   ],
   "source": [
    "# create a scatter plot of PETAL LENGTH versus PETAL WIDTH and color by SPECIES\n",
    "fig, ax = plt.subplots()\n",
    "iris.plot(kind='scatter', x='petal_length', y='petal_width', c='species_num', colormap=cmap_bold, ax=ax)\n",
    "ax.set_xlabel(\"petal_length\")\n",
    "plt.show()"
   ]
  },
  {
   "cell_type": "code",
   "execution_count": 5,
   "metadata": {},
   "outputs": [
    {
     "data": {
      "image/png": "[encoded data removed]",
      "text/plain": [
       "<matplotlib.figure.Figure at 0x25732e50978>"
      ]
     },
     "metadata": {},
     "output_type": "display_data"
    }
   ],
   "source": [
    "# create a scatter plot of SEPAL LENGTH versus SEPAL WIDTH and color by SPECIES\n",
    "fig, ax = plt.subplots()\n",
    "iris.plot(kind='scatter', x='sepal_length', y='sepal_width', c='species_num', colormap=cmap_bold, ax=ax)\n",
    "ax.set_xlabel(\"sepal_length\")\n",
    "plt.show()"
   ]
  },
  {
   "cell_type": "code",
   "execution_count": 6,
   "metadata": {},
   "outputs": [
    {
     "name": "stdout",
     "output_type": "stream",
     "text": [
      "   sepal_length  sepal_width  petal_length  petal_width\n",
      "0           4.9          3.0           1.4          0.2\n",
      "1           4.7          3.2           1.3          0.2\n",
      "2           4.6          3.1           1.5          0.2\n",
      "3           5.0          3.6           1.4          0.2\n",
      "4           5.4          3.9           1.7          0.4\n",
      "(119, 4)\n",
      "(119,)\n"
     ]
    },
    {
     "data": {
      "text/plain": [
       "0.93333333333333335"
      ]
     },
     "execution_count": 6,
     "metadata": {},
     "output_type": "execute_result"
    }
   ],
   "source": [
    "# ## K-nearest neighbors (KNN) classification\n",
    "\n",
    "iris.head()\n",
    "\n",
    "\n",
    "# store feature matrix in \"X\"\n",
    "feature_cols = ['sepal_length', 'sepal_width', 'petal_length', 'petal_width']\n",
    "X = iris[feature_cols]\n",
    "print(X.head())\n",
    "# store response vector in \"y\"\n",
    "y = iris.species_num\n",
    "\n",
    "\n",
    "from sklearn.neighbors import KNeighborsClassifier\n",
    "# make an instance of a KNeighborsClassifier object\n",
    "knn = KNeighborsClassifier(n_neighbors=1)\n",
    "\n",
    "#let's do train/validation data split\n",
    "from sklearn.model_selection import train_test_split\n",
    "X_train, X_test, y_train, y_test = train_test_split(X, y, test_size=0.2, random_state=0)\n",
    "\n",
    "print(X_train.shape), print(y_train.shape)\n",
    "# check X's shape (n = number of observations, p = number of features)\n",
    "#print(X.shape)\n",
    "clf = knn.fit(X_train, y_train)\n",
    "clf.score(X_test, y_test)"
   ]
  },
  {
   "cell_type": "code",
   "execution_count": 7,
   "metadata": {},
   "outputs": [
    {
     "name": "stdout",
     "output_type": "stream",
     "text": [
      "{'algorithm': 'auto', 'leaf_size': 30, 'metric': 'minkowski', 'metric_params': None, 'n_jobs': 1, 'n_neighbors': 1, 'p': 2, 'weights': 'uniform'}\n",
      "KNN's neighbor value is set to 1\n",
      "[ 0.96666667  0.96666667  0.93333333  0.93333333  1.        ]\n",
      "Accuracy: 0.96 (+/- 0.05)\n"
     ]
    }
   ],
   "source": [
    "#let's try cross-validation\n",
    "\n",
    "from sklearn.model_selection import cross_val_score\n",
    "\n",
    "clf = KNeighborsClassifier(n_neighbors=1)\n",
    "print(clf.get_params())\n",
    "print(\"KNN's neighbor value is set to %d\" % clf.get_params()['n_neighbors'])\n",
    "scores = cross_val_score(clf, X, y, cv=5)\n",
    "print(scores)\n",
    "\n",
    "#The mean score and the 95% confidence interval of the score estimate\n",
    "print(\"Accuracy: %0.2f (+/- %0.2f)\" % (scores.mean(), scores.std() * 2))"
   ]
  },
  {
   "cell_type": "code",
   "execution_count": 8,
   "metadata": {},
   "outputs": [
    {
     "name": "stdout",
     "output_type": "stream",
     "text": [
      "{'algorithm': 'auto', 'leaf_size': 30, 'metric': 'minkowski', 'metric_params': None, 'n_jobs': 1, 'n_neighbors': 15, 'p': 2, 'weights': 'uniform'}\n",
      "KNN's neighbor value is set to 15\n",
      "[ 0.93333333  1.          0.93333333  0.96666667  1.        ]\n",
      "Accuracy: 0.97 (+/- 0.06)\n"
     ]
    }
   ],
   "source": [
    "#let's change number of neighbors of KNN\n",
    "\n",
    "from sklearn.model_selection import cross_val_score\n",
    "# check y's shape (single dimension with length n)\n",
    "#print(y.shape)\n",
    "clf = KNeighborsClassifier(n_neighbors=15)\n",
    "print(clf.get_params())\n",
    "print(\"KNN's neighbor value is set to %d\" % clf.get_params()['n_neighbors'])\n",
    "scores = cross_val_score(clf, X, y, cv=5)\n",
    "print(scores)\n",
    "\n",
    "#The mean score and the 95% confidence interval of the score estimate\n",
    "print(\"Accuracy: %0.2f (+/- %0.2f)\" % (scores.mean(), scores.std() * 2))"
   ]
  },
  {
   "cell_type": "markdown",
   "metadata": {},
   "source": [
    "# scikit-learn examples\n",
    "clustering 결과를 그래픽하게 한번 보자!\n",
    "Iris datatset은 4개의 column을 가지고 있어서 그래픽하게 표현하기 적합지 않아 간단히 2개의 column 만으로 knn을 fit 시키는 방식을 취한다.\n",
    "http://scikit-learn.org/stable/auto_examples/neighbors/plot_classification.html#sphx-glr-auto-examples-neighbors-plot-classification-py"
   ]
  },
  {
   "cell_type": "code",
   "execution_count": 9,
   "metadata": {
    "collapsed": true
   },
   "outputs": [],
   "source": [
    "from matplotlib.colors import ListedColormap\n",
    "from sklearn import neighbors"
   ]
  },
  {
   "cell_type": "code",
   "execution_count": 10,
   "metadata": {
    "collapsed": true
   },
   "outputs": [],
   "source": [
    "#neighbor 숫자\n",
    "n_neighbors = 15\n",
    "\n",
    "#2개의 column만 남기자\n",
    "X_2 = X.drop(['petal_length','petal_width'], axis=1)"
   ]
  },
  {
   "cell_type": "code",
   "execution_count": 11,
   "metadata": {
    "collapsed": true
   },
   "outputs": [],
   "source": [
    "h = .02  # step size in the mesh"
   ]
  },
  {
   "cell_type": "code",
   "execution_count": 12,
   "metadata": {},
   "outputs": [
    {
     "data": {
      "image/png": "[encoded data removed]",
      "text/plain": [
       "<matplotlib.figure.Figure at 0x25734b3e828>"
      ]
     },
     "metadata": {},
     "output_type": "display_data"
    },
    {
     "data": {
      "image/png": "[encoded data removed]",
      "text/plain": [
       "<matplotlib.figure.Figure at 0x25734b79e80>"
      ]
     },
     "metadata": {},
     "output_type": "display_data"
    }
   ],
   "source": [
    "# Create color maps\n",
    "cmap_light = ListedColormap(['#FFAAAA', '#AAFFAA', '#AAAAFF'])\n",
    "cmap_bold = ListedColormap(['#FF0000', '#00FF00', '#0000FF'])\n",
    "\n",
    "for weights in ['uniform', 'distance']:\n",
    "    # we create an instance of Neighbours Classifier and fit the data.\n",
    "    clf = neighbors.KNeighborsClassifier(n_neighbors, weights=weights)\n",
    "    clf.fit(X_2, y)\n",
    "    \n",
    "    # Plot the decision boundary. For that, we will assign a color to each\n",
    "    # point in the mesh [x_min, x_max]x[y_min, y_max].\n",
    "    x_min, x_max = X_2['sepal_length'].min() - 1, X['sepal_length'].max() + 1\n",
    "    y_min, y_max = X_2['sepal_width'].min() - 1, X['sepal_width'].max() + 1\n",
    "    xx, yy = np.meshgrid(np.arange(x_min, x_max, h),\n",
    "                         np.arange(y_min, y_max, h))\n",
    "    Z = clf.predict(np.c_[xx.ravel(), yy.ravel()])\n",
    "\n",
    "    # Put the result into a color plot\n",
    "    Z = Z.reshape(xx.shape)\n",
    "    plt.figure()\n",
    "    plt.pcolormesh(xx, yy, Z, cmap=cmap_light)\n",
    "\n",
    "    # Plot also the training points\n",
    "    plt.scatter(X_2['sepal_length'], X_2['sepal_width'], c=y, cmap=cmap_bold,\n",
    "                edgecolor='k', s=20)\n",
    "    plt.xlim(xx.min(), xx.max())\n",
    "    plt.ylim(yy.min(), yy.max())\n",
    "    plt.title(\"3-Class classification (k = %i, weights = '%s')\"\n",
    "              % (n_neighbors, weights))\n",
    "\n",
    "plt.show()"
   ]
  },
  {
   "cell_type": "markdown",
   "metadata": {},
   "source": [
    "**Association analysis**"
   ]
  },
  {
   "cell_type": "markdown",
   "metadata": {},
   "source": [
    "**Cluster analysis**"
   ]
  },
  {
   "cell_type": "markdown",
   "metadata": {},
   "source": [
    "**Anomaly detection**"
   ]
  },
  {
   "cell_type": "code",
   "execution_count": null,
   "metadata": {
    "collapsed": true
   },
   "outputs": [],
   "source": []
  }
 ],
 "metadata": {
  "kernelspec": {
   "display_name": "Python 3",
   "language": "python",
   "name": "python3"
  },
  "language_info": {
   "codemirror_mode": {
    "name": "ipython",
    "version": 3
   },
   "file_extension": ".py",
   "mimetype": "text/x-python",
   "name": "python",
   "nbconvert_exporter": "python",
   "pygments_lexer": "ipython3",
   "version": "3.6.3"
  }
 },
 "nbformat": 4,
 "nbformat_minor": 2
}
